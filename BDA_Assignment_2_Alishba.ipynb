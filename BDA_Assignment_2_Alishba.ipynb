{
 "cells": [
  {
   "cell_type": "code",
   "execution_count": 54,
   "metadata": {
    "colab": {
     "base_uri": "https://localhost:8080/"
    },
    "id": "j7Oa4R-vy8hD",
    "outputId": "31da894f-b46c-4435-fa80-6e7b67b2b623"
   },
   "outputs": [
    {
     "name": "stdout",
     "output_type": "stream",
     "text": [
      "Bismillah\n"
     ]
    }
   ],
   "source": [
    "print(\"Bismillah\")"
   ]
  },
  {
   "cell_type": "markdown",
   "metadata": {
    "id": "d07e4ouf3_Su"
   },
   "source": [
    "# **Installations**"
   ]
  },
  {
   "cell_type": "code",
   "execution_count": 55,
   "metadata": {
    "colab": {
     "base_uri": "https://localhost:8080/"
    },
    "id": "sx4Ji4Ljy3di",
    "outputId": "f179c533-d42d-4a58-ef1c-82dd81e9f5ad"
   },
   "outputs": [
    {
     "name": "stdout",
     "output_type": "stream",
     "text": [
      "Requirement already satisfied: pyspark in /usr/local/lib/python3.6/dist-packages (3.0.1)\n",
      "Requirement already satisfied: py4j==0.10.9 in /usr/local/lib/python3.6/dist-packages (from pyspark) (0.10.9)\n",
      "openjdk-8-jdk-headless is already the newest version (8u275-b01-0ubuntu1~18.04).\n",
      "0 upgraded, 0 newly installed, 0 to remove and 14 not upgraded.\n"
     ]
    }
   ],
   "source": [
    "!pip install pyspark\n",
    "!pip install -U -q PyDrive\n",
    "!apt install openjdk-8-jdk-headless -qq\n",
    "import os\n",
    "os.environ[\"JAVA_HOME\"] = \"/usr/lib/jvm/java-8-openjdk-amd64\""
   ]
  },
  {
   "cell_type": "code",
   "execution_count": 56,
   "metadata": {
    "colab": {
     "base_uri": "https://localhost:8080/"
    },
    "id": "hIIvKPgwIeLY",
    "outputId": "6ad71e4d-d9b2-4bb7-ffcb-d32635eec565"
   },
   "outputs": [
    {
     "name": "stdout",
     "output_type": "stream",
     "text": [
      "Drive already mounted at /content/drive; to attempt to forcibly remount, call drive.mount(\"/content/drive\", force_remount=True).\n"
     ]
    }
   ],
   "source": [
    "from google.colab import drive\n",
    "drive.mount('/content/drive')"
   ]
  },
  {
   "cell_type": "code",
   "execution_count": 59,
   "metadata": {
    "id": "RB4XhI_6zLxJ"
   },
   "outputs": [],
   "source": [
    "# Let's import the libraries we will need\n",
    "# import pandas as pd\n",
    "# import numpy as np\n",
    "# import matplotlib.pyplot as plt\n",
    "# %matplotlib inline\n",
    "\n",
    "import pyspark\n",
    "from pyspark.sql import *\n",
    "from pyspark.sql.functions import *\n",
    "from pyspark import SparkContext, SparkConf\n",
    "import re"
   ]
  },
  {
   "cell_type": "code",
   "execution_count": null,
   "metadata": {
    "collapsed": true,
    "id": "C_LwBwctyeRs"
   },
   "outputs": [],
   "source": [
    "# # Import and create a new SQLContext \n",
    "# from pyspark.sql import SQLContext\n",
    "\n",
    "# create the session\n",
    "conf = SparkConf().set(\"spark.ui.port\", \"4050\")\n",
    "\n",
    "# create the context\n",
    "sc = pyspark.SparkContext(conf=conf)\n",
    "spark = SparkSession.builder.getOrCreate()\n",
    "sqlContext = SQLContext(sc)"
   ]
  },
  {
   "cell_type": "markdown",
   "metadata": {
    "id": "H3FjxcEO4SUz"
   },
   "source": [
    "# **Pre-Processing**"
   ]
  },
  {
   "cell_type": "code",
   "execution_count": 61,
   "metadata": {
    "colab": {
     "base_uri": "https://localhost:8080/"
    },
    "id": "RCm3ZsoRyeR8",
    "outputId": "5cc98afd-7dc6-44ce-e450-f1adf48dec34"
   },
   "outputs": [
    {
     "name": "stdout",
     "output_type": "stream",
     "text": [
      "+-------------------+----+\n",
      "|            Country|Code|\n",
      "+-------------------+----+\n",
      "|        Afghanistan| AFG|\n",
      "|            Albania| ALB|\n",
      "|            Algeria| ALG|\n",
      "|     American Samoa| ASA|\n",
      "|            Andorra| AND|\n",
      "|             Angola| ANG|\n",
      "|           Anguilla| AIA|\n",
      "|Antigua and Barbuda| ATG|\n",
      "|          Argentina| ARG|\n",
      "|            Armenia| ARM|\n",
      "|              Aruba| ARU|\n",
      "|          Australia| AUS|\n",
      "|            Austria| AUT|\n",
      "|         Azerbaijan| AZE|\n",
      "|            Bahamas| BAH|\n",
      "|            Bahrain| BHR|\n",
      "|         Bangladesh| BAN|\n",
      "|           Barbados| BRB|\n",
      "|            Belarus| BLR|\n",
      "|            Belgium| BEL|\n",
      "+-------------------+----+\n",
      "only showing top 20 rows\n",
      "\n",
      "root\n",
      " |-- Country: string (nullable = true)\n",
      " |-- Code: string (nullable = true)\n",
      "\n"
     ]
    },
    {
     "data": {
      "text/plain": [
       "211"
      ]
     },
     "execution_count": 61,
     "metadata": {
      "tags": []
     },
     "output_type": "execute_result"
    }
   ],
   "source": [
    "# Read the country CSV file into an RDD.\n",
    "country_lines = spark.read.csv('/content/drive/MyDrive/BDA/Assignment02/country-list.csv', sep = ',',  inferSchema = True)\n",
    "country_lines = country_lines.selectExpr(\"_c0 as Country\", \"_c1 as Code\")\n",
    "country_lines.show()\n",
    "country_lines.printSchema()\n",
    "type(country_lines)\n",
    "country_lines.count()"
   ]
  },
  {
   "cell_type": "code",
   "execution_count": 62,
   "metadata": {
    "colab": {
     "base_uri": "https://localhost:8080/"
    },
    "id": "_oPwa4gCYfIR",
    "outputId": "ed5f78ac-3c59-40a9-f81d-83d8f048f86c"
   },
   "outputs": [
    {
     "data": {
      "text/plain": [
       "[Row(Country='Afghanistan', Code=' AFG'),\n",
       " Row(Country='Albania', Code=' ALB'),\n",
       " Row(Country='Algeria', Code=' ALG')]"
      ]
     },
     "execution_count": 62,
     "metadata": {
      "tags": []
     },
     "output_type": "execute_result"
    }
   ],
   "source": [
    "country_lines.take(3)"
   ]
  },
  {
   "cell_type": "code",
   "execution_count": null,
   "metadata": {
    "id": "yI1EJZDcyeR-"
   },
   "outputs": [],
   "source": [
    "# Convert each line into a pair of words\n"
   ]
  },
  {
   "cell_type": "code",
   "execution_count": null,
   "metadata": {
    "id": "y0_AOT_SyeR_"
   },
   "outputs": [],
   "source": [
    "# Convert each pair of words into a tuple\n"
   ]
  },
  {
   "cell_type": "code",
   "execution_count": null,
   "metadata": {
    "id": "Sarj8kNKyeR_"
   },
   "outputs": [],
   "source": [
    "# Create the DataFrame, look at schema and contents\n",
    "# countryDF = sqlContext.createDataFrame(country_tuples, [\"country\", \"code\"])\n",
    "# countryDF.printSchema()\n",
    "# countryDF.take(3)\n"
   ]
  },
  {
   "cell_type": "code",
   "execution_count": 63,
   "metadata": {
    "colab": {
     "base_uri": "https://localhost:8080/"
    },
    "id": "jdqHB9TnyeSA",
    "outputId": "03dcbb9b-9759-4948-e430-966450e9b9d2"
   },
   "outputs": [
    {
     "name": "stdout",
     "output_type": "stream",
     "text": [
      "+--------------------+-----------+-------------+--------------------+------------------+---------------------+---------------------+--------------------+--------------------+---------------+\n",
      "|                 _id|coordinates|retweet_count|              source|          tweet_ID|tweet_followers_count|tweet_mentioned_count|          tweet_text|                user|      user_name|\n",
      "+--------------------+-----------+-------------+--------------------+------------------+---------------------+---------------------+--------------------+--------------------+---------------+\n",
      "|[578ffa8e7eb9513f...|       null|            0|<a href=\"http://t...|755891629932675072|                  461|                    1|RT @ochocinco: I ...|[[2011-12-27T09:0...|        koteras|\n",
      "|[578ffa8f7eb9513f...|       null|            0|<a href=\"http://t...|755891632759681024|                 4601|                    3|RT @NiallOfficial...|[[2012-10-19T00:4...|AllieLovesR5_1D|\n",
      "|[578ffa917eb9513f...|       null|            0|<a href=\"http://t...|755891638921232384|                  616|                    1|RT @GameSeek: Fol...|[[2012-07-28T21:0...|       Tonkatol|\n",
      "|[578ffa957eb9513f...|       null|            0|<a href=\"http://t...|755891659729145856|                  101|                    1|@CIVARAGI ...I wa...|[[2010-04-29T12:3...|         Gaslet|\n",
      "|[578ffa967eb9513f...|       null|            0|<a href=\"http://t...|755891664787353600|                  685|                    1|RT @GeniusFootbal...|[[2012-07-22T08:0...|       Syaxmii_|\n",
      "|[578ffaa07eb9513f...|       null|            0|<a href=\"http://t...|755891703110832128|                 3367|                    1|RT @WeahsCousin: ...|[[2013-01-07T21:0...|   CamSteele_96|\n",
      "|[578ffaa07eb9513f...|       null|            0|<a href=\"http://t...|755891704843145217|                  523|                    1|RT @WeahsCousin: ...|[[2015-04-04T14:1...|       KILLECHl|\n",
      "|[578ffaa17eb9513f...|       null|            0|<a href=\"http://i...|755891708756430848|                  110|                    0|New on eBay! XBOX...|[[2015-09-23T08:1...|   FifaonEbayUK|\n",
      "|[578ffaa57eb9513f...|       null|            0|<a href=\"http://t...|755891724141096960|                  253|                    0|damn basti just r...|[[2015-11-07T01:3...|     arrxwsmith|\n",
      "|[578ffaab7eb9513f...|       null|            0|<a href=\"http://t...|755891752947421184|                  547|                    1|RT @as_shahid12: ...|[[2014-06-11T07:1...|superduperkorry|\n",
      "|[578ffaad7eb9513f...|       null|            0|<a href=\"http://w...|755891760472072192|                 1531|                    0|Anyone Loves Poo ...|[[2015-08-01T05:2...|Posts_from_Asia|\n",
      "|[578ffab47eb9513f...|       null|            0|<a href=\"http://t...|755891790151086083|                   69|                    1|RT @WeahsCousin: ...|[[2015-12-24T01:1...|jamesdohertyedm|\n",
      "|[578ffab57eb9513f...|       null|            0|<a href=\"http://t...|755891789379280896|                  436|                    1|RT @ochocinco: I ...|[[2014-05-30T03:1...|      KamOzburn|\n",
      "|[578ffabd7eb9513f...|       null|            0|<a href=\"http://t...|755891828352749568|                  544|                    1|RT @RobHarris: IO...|[[2011-06-16T17:1...|       JBezants|\n",
      "|[578ffabf7eb9513f...|       null|            0|<a href=\"http://t...|755891837043249152|                  273|                    1|RT @WeahsCousin: ...|[[2011-07-29T15:2...|       Hibra514|\n",
      "|[578ffac17eb9513f...|       null|            0|<a href=\"http://t...|755891842542104577|                  823|                    1|RT @ochocinco: I ...|[[2011-08-22T16:3...|   jaaakesmithh|\n",
      "|[578ffac17eb9513f...|       null|            0|<a href=\"http://t...|755891844840583168|                  616|                    1|@GameSeek Great #...|[[2012-07-28T21:0...|       Tonkatol|\n",
      "|[578ffac47eb9513f...|       null|            0|<a href=\"http://t...|755891857754845185|                  262|                    1|RT @WeahsCousin: ...|[[2012-01-16T19:0...|DCDanielCollins|\n",
      "|[578ffacb7eb9513f...|       null|            0|<a href=\"http://w...|755891886276116480|                    4|                    1|Am apreciat un vi...|[[2015-08-16T09:1...|     cotanboss2|\n",
      "|[578ffacf7eb9513f...|       null|            0|<a href=\"http://t...|755891901438525441|                   86|                    3|RT @imadamsavage:...|[[2016-01-08T13:1...|    ColeLJH1988|\n",
      "+--------------------+-----------+-------------+--------------------+------------------+---------------------+---------------------+--------------------+--------------------+---------------+\n",
      "only showing top 20 rows\n",
      "\n",
      "root\n",
      " |-- _id: struct (nullable = true)\n",
      " |    |-- $oid: string (nullable = true)\n",
      " |-- coordinates: string (nullable = true)\n",
      " |-- retweet_count: long (nullable = true)\n",
      " |-- source: string (nullable = true)\n",
      " |-- tweet_ID: string (nullable = true)\n",
      " |-- tweet_followers_count: long (nullable = true)\n",
      " |-- tweet_mentioned_count: long (nullable = true)\n",
      " |-- tweet_text: string (nullable = true)\n",
      " |-- user: struct (nullable = true)\n",
      " |    |-- CreatedAt: struct (nullable = true)\n",
      " |    |    |-- $date: string (nullable = true)\n",
      " |    |-- FavouritesCount: long (nullable = true)\n",
      " |    |-- FollowersCount: long (nullable = true)\n",
      " |    |-- FriendsCount: long (nullable = true)\n",
      " |    |-- Location: string (nullable = true)\n",
      " |    |-- UserId: long (nullable = true)\n",
      " |-- user_name: string (nullable = true)\n",
      "\n"
     ]
    }
   ],
   "source": [
    "# Read tweets JSON file\n",
    "users = spark.read.json(\"/content/drive/MyDrive/BDA/Assignment02/users.json\")\n",
    "users.show()\n",
    "users.printSchema()"
   ]
  },
  {
   "cell_type": "code",
   "execution_count": 64,
   "metadata": {
    "colab": {
     "base_uri": "https://localhost:8080/"
    },
    "id": "JYWgO0z7SMcF",
    "outputId": "07a30278-018e-40fb-d9a7-8f3955919dbb"
   },
   "outputs": [
    {
     "data": {
      "text/plain": [
       "['_id',\n",
       " 'coordinates',\n",
       " 'retweet_count',\n",
       " 'source',\n",
       " 'tweet_ID',\n",
       " 'tweet_followers_count',\n",
       " 'tweet_mentioned_count',\n",
       " 'tweet_text',\n",
       " 'user',\n",
       " 'user_name']"
      ]
     },
     "execution_count": 64,
     "metadata": {
      "tags": []
     },
     "output_type": "execute_result"
    }
   ],
   "source": [
    "users.columns"
   ]
  },
  {
   "cell_type": "code",
   "execution_count": 65,
   "metadata": {
    "colab": {
     "base_uri": "https://localhost:8080/"
    },
    "id": "yHVf7BNhTRoR",
    "outputId": "16e51b91-7b9c-47be-cc35-761f01f4fb98"
   },
   "outputs": [
    {
     "data": {
      "text/plain": [
       "11188"
      ]
     },
     "execution_count": 65,
     "metadata": {
      "tags": []
     },
     "output_type": "execute_result"
    }
   ],
   "source": [
    "users.count()"
   ]
  },
  {
   "cell_type": "code",
   "execution_count": 66,
   "metadata": {
    "colab": {
     "base_uri": "https://localhost:8080/"
    },
    "id": "wPuLevHmyeSB",
    "outputId": "c5861703-9abe-49c6-b5ff-1cfca8185e9d"
   },
   "outputs": [
    {
     "data": {
      "text/plain": [
       "11188"
      ]
     },
     "execution_count": 66,
     "metadata": {
      "tags": []
     },
     "output_type": "execute_result"
    }
   ],
   "source": [
    "# Clean the data: some tweets are empty. Remove the empty tweets using filter() \n",
    "users = users.filter(users.tweet_text.isNotNull())\n",
    "users.count()"
   ]
  },
  {
   "cell_type": "code",
   "execution_count": 53,
   "metadata": {
    "colab": {
     "base_uri": "https://localhost:8080/"
    },
    "id": "RszM0C53KMNf",
    "outputId": "94a177ef-0776-4129-96b1-573328cc9d87"
   },
   "outputs": [
    {
     "data": {
      "text/plain": [
       "35"
      ]
     },
     "execution_count": 53,
     "metadata": {
      "tags": []
     },
     "output_type": "execute_result"
    }
   ],
   "source": [
    "# My mongodb checking query\n",
    "# users.filter((users.tweet_text.contains(\"England\")) & (~(users.tweet_text.contains(\"UEFA\")))).count()"
   ]
  },
  {
   "cell_type": "code",
   "execution_count": 67,
   "metadata": {
    "colab": {
     "base_uri": "https://localhost:8080/"
    },
    "id": "S58laZaIrWDp",
    "outputId": "132ea465-1171-4cf8-97fa-e97163bf0e52"
   },
   "outputs": [
    {
     "name": "stdout",
     "output_type": "stream",
     "text": [
      "+--------------------+-----------+-------------+--------------------+------------------+---------------------+---------------------+--------------------+--------------------+---------------+--------------------+\n",
      "|                 _id|coordinates|retweet_count|              source|          tweet_ID|tweet_followers_count|tweet_mentioned_count|          tweet_text|                user|      user_name|    clean_tweet_text|\n",
      "+--------------------+-----------+-------------+--------------------+------------------+---------------------+---------------------+--------------------+--------------------+---------------+--------------------+\n",
      "|[578ffa8e7eb9513f...|       null|            0|<a href=\"http://t...|755891629932675072|                  461|                    1|RT @ochocinco: I ...|[[2011-12-27T09:0...|        koteras|RT  ochocinco  I ...|\n",
      "|[578ffa8f7eb9513f...|       null|            0|<a href=\"http://t...|755891632759681024|                 4601|                    3|RT @NiallOfficial...|[[2012-10-19T00:4...|AllieLovesR5_1D|RT  NiallOfficial...|\n",
      "|[578ffa917eb9513f...|       null|            0|<a href=\"http://t...|755891638921232384|                  616|                    1|RT @GameSeek: Fol...|[[2012-07-28T21:0...|       Tonkatol|RT  GameSeek  Fol...|\n",
      "|[578ffa957eb9513f...|       null|            0|<a href=\"http://t...|755891659729145856|                  101|                    1|@CIVARAGI ...I wa...|[[2010-04-29T12:3...|         Gaslet| CIVARAGI    I wa...|\n",
      "|[578ffa967eb9513f...|       null|            0|<a href=\"http://t...|755891664787353600|                  685|                    1|RT @GeniusFootbal...|[[2012-07-22T08:0...|       Syaxmii_|RT  GeniusFootbal...|\n",
      "|[578ffaa07eb9513f...|       null|            0|<a href=\"http://t...|755891703110832128|                 3367|                    1|RT @WeahsCousin: ...|[[2013-01-07T21:0...|   CamSteele_96|RT  WeahsCousin  ...|\n",
      "|[578ffaa07eb9513f...|       null|            0|<a href=\"http://t...|755891704843145217|                  523|                    1|RT @WeahsCousin: ...|[[2015-04-04T14:1...|       KILLECHl|RT  WeahsCousin  ...|\n",
      "|[578ffaa17eb9513f...|       null|            0|<a href=\"http://i...|755891708756430848|                  110|                    0|New on eBay! XBOX...|[[2015-09-23T08:1...|   FifaonEbayUK|New on eBay  XBOX...|\n",
      "|[578ffaa57eb9513f...|       null|            0|<a href=\"http://t...|755891724141096960|                  253|                    0|damn basti just r...|[[2015-11-07T01:3...|     arrxwsmith|damn basti just r...|\n",
      "|[578ffaab7eb9513f...|       null|            0|<a href=\"http://t...|755891752947421184|                  547|                    1|RT @as_shahid12: ...|[[2014-06-11T07:1...|superduperkorry|RT  as shahid12  ...|\n",
      "|[578ffaad7eb9513f...|       null|            0|<a href=\"http://w...|755891760472072192|                 1531|                    0|Anyone Loves Poo ...|[[2015-08-01T05:2...|Posts_from_Asia|Anyone Loves Poo ...|\n",
      "|[578ffab47eb9513f...|       null|            0|<a href=\"http://t...|755891790151086083|                   69|                    1|RT @WeahsCousin: ...|[[2015-12-24T01:1...|jamesdohertyedm|RT  WeahsCousin  ...|\n",
      "|[578ffab57eb9513f...|       null|            0|<a href=\"http://t...|755891789379280896|                  436|                    1|RT @ochocinco: I ...|[[2014-05-30T03:1...|      KamOzburn|RT  ochocinco  I ...|\n",
      "|[578ffabd7eb9513f...|       null|            0|<a href=\"http://t...|755891828352749568|                  544|                    1|RT @RobHarris: IO...|[[2011-06-16T17:1...|       JBezants|RT  RobHarris  IO...|\n",
      "|[578ffabf7eb9513f...|       null|            0|<a href=\"http://t...|755891837043249152|                  273|                    1|RT @WeahsCousin: ...|[[2011-07-29T15:2...|       Hibra514|RT  WeahsCousin  ...|\n",
      "|[578ffac17eb9513f...|       null|            0|<a href=\"http://t...|755891842542104577|                  823|                    1|RT @ochocinco: I ...|[[2011-08-22T16:3...|   jaaakesmithh|RT  ochocinco  I ...|\n",
      "|[578ffac17eb9513f...|       null|            0|<a href=\"http://t...|755891844840583168|                  616|                    1|@GameSeek Great #...|[[2012-07-28T21:0...|       Tonkatol| GameSeek Great  ...|\n",
      "|[578ffac47eb9513f...|       null|            0|<a href=\"http://t...|755891857754845185|                  262|                    1|RT @WeahsCousin: ...|[[2012-01-16T19:0...|DCDanielCollins|RT  WeahsCousin  ...|\n",
      "|[578ffacb7eb9513f...|       null|            0|<a href=\"http://w...|755891886276116480|                    4|                    1|Am apreciat un vi...|[[2015-08-16T09:1...|     cotanboss2|Am apreciat un vi...|\n",
      "|[578ffacf7eb9513f...|       null|            0|<a href=\"http://t...|755891901438525441|                   86|                    3|RT @imadamsavage:...|[[2016-01-08T13:1...|    ColeLJH1988|RT  imadamsavage ...|\n",
      "+--------------------+-----------+-------------+--------------------+------------------+---------------------+---------------------+--------------------+--------------------+---------------+--------------------+\n",
      "only showing top 20 rows\n",
      "\n"
     ]
    },
    {
     "data": {
      "text/plain": [
       "11188"
      ]
     },
     "execution_count": 67,
     "metadata": {
      "tags": []
     },
     "output_type": "execute_result"
    }
   ],
   "source": [
    "def ascii_ignore(x):\n",
    "  x = x.encode('ascii', 'ignore').decode('ascii')\n",
    "  # x = re.sub(r'\\W+', ' ', x)\n",
    "  x = re.sub(r'[^a-zA-Z0-9]', ' ', x)\n",
    "  # x.replace('[^a-zA-Z]', '')\n",
    "  return x\n",
    "\n",
    "ascii_udf = udf(ascii_ignore)  # pyspark.sql.functions include udf()\n",
    "\n",
    "clean_users = users.withColumn(\"clean_tweet_text\", ascii_udf('tweet_text'))\n",
    "clean_users.show()\n",
    "clean_users.count()"
   ]
  },
  {
   "cell_type": "code",
   "execution_count": 68,
   "metadata": {
    "id": "WdtHiFCDinGI"
   },
   "outputs": [],
   "source": [
    "clean_users = clean_users.withColumn(\"clean_tweet_text\",lower(col(\"clean_tweet_text\"))) # pyspark.sql.functions include lower() and col()"
   ]
  },
  {
   "cell_type": "code",
   "execution_count": 40,
   "metadata": {
    "colab": {
     "base_uri": "https://localhost:8080/"
    },
    "id": "_U_tharT-pI6",
    "outputId": "2326a9aa-f27a-4316-bd81-e89929313919"
   },
   "outputs": [
    {
     "data": {
      "text/plain": [
       "8543"
      ]
     },
     "execution_count": 40,
     "metadata": {
      "tags": []
     },
     "output_type": "execute_result"
    }
   ],
   "source": [
    "# clean_users.select(\"tweet_text\").where(clean_users.tweet_text.contains(\"http://\")).count()"
   ]
  },
  {
   "cell_type": "code",
   "execution_count": 69,
   "metadata": {
    "id": "pVNXBkI_XGOb"
   },
   "outputs": [],
   "source": [
    "# Perform WordCount on the cleaned tweet texts. (note: this is several lines.)\n",
    "lines = clean_users.select(\"clean_tweet_text\").rdd.flatMap(lambda x:x)"
   ]
  },
  {
   "cell_type": "code",
   "execution_count": 70,
   "metadata": {
    "id": "LiNb8DnpmG8q"
   },
   "outputs": [],
   "source": [
    "words = lines.flatMap(lambda line : line.split(\" \"))"
   ]
  },
  {
   "cell_type": "code",
   "execution_count": null,
   "metadata": {
    "colab": {
     "base_uri": "https://localhost:8080/"
    },
    "id": "ynQT4dCd6Rxy",
    "outputId": "e045274b-189e-44f1-dcd4-dee23c559e25"
   },
   "outputs": [
    {
     "data": {
      "text/plain": [
       "89"
      ]
     },
     "execution_count": 413,
     "metadata": {
      "tags": []
     },
     "output_type": "execute_result"
    }
   ],
   "source": [
    "# For Checking\n",
    "# yo = words.collect()\n",
    "# from pyspark.sql.types import *\n",
    "# lets = spark.createDataFrame(yo, StringType())\n",
    "# lets.collect()\n",
    "# # lets.toPandas().to_csv('mycsv.csv')\n",
    "# lets.where(lets.value == \"nigeria\").count()"
   ]
  },
  {
   "cell_type": "code",
   "execution_count": 71,
   "metadata": {
    "id": "cvac2wyimH_0"
   },
   "outputs": [],
   "source": [
    "tuples = words.map(lambda word: (word , 1))"
   ]
  },
  {
   "cell_type": "code",
   "execution_count": 72,
   "metadata": {
    "colab": {
     "base_uri": "https://localhost:8080/"
    },
    "id": "NKfFP2BRMlku",
    "outputId": "07b9461f-c707-44d6-b91f-fb19cb3ae1f7"
   },
   "outputs": [
    {
     "data": {
      "text/plain": [
       "279709"
      ]
     },
     "execution_count": 72,
     "metadata": {
      "tags": []
     },
     "output_type": "execute_result"
    }
   ],
   "source": [
    "words.count() # Total words detected"
   ]
  },
  {
   "cell_type": "code",
   "execution_count": 73,
   "metadata": {
    "id": "--_UBzhLmWyw"
   },
   "outputs": [],
   "source": [
    "counts = tuples.reduceByKey(lambda a , b: (a + b))"
   ]
  },
  {
   "cell_type": "code",
   "execution_count": 74,
   "metadata": {
    "colab": {
     "base_uri": "https://localhost:8080/"
    },
    "id": "_-k8PZrFY68D",
    "outputId": "d85132b4-8f5d-4045-9404-d4779ebbde7a"
   },
   "outputs": [
    {
     "data": {
      "text/plain": [
       "pyspark.rdd.PipelinedRDD"
      ]
     },
     "execution_count": 74,
     "metadata": {
      "tags": []
     },
     "output_type": "execute_result"
    }
   ],
   "source": [
    "type(counts)"
   ]
  },
  {
   "cell_type": "code",
   "execution_count": 75,
   "metadata": {
    "colab": {
     "base_uri": "https://localhost:8080/"
    },
    "id": "PxIq1CITbZtt",
    "outputId": "5dd39d91-1fa2-4a50-e3c9-bfe5f655bae4"
   },
   "outputs": [
    {
     "data": {
      "text/plain": [
       "list"
      ]
     },
     "execution_count": 75,
     "metadata": {
      "tags": []
     },
     "output_type": "execute_result"
    }
   ],
   "source": [
    "type(counts.collect())"
   ]
  },
  {
   "cell_type": "code",
   "execution_count": 76,
   "metadata": {
    "colab": {
     "base_uri": "https://localhost:8080/"
    },
    "id": "kb2JORpMcky9",
    "outputId": "79803e17-fe64-4f7d-a80e-1f6500c27a86"
   },
   "outputs": [
    {
     "data": {
      "text/plain": [
       "[('', 69563), ('i', 2039), ('beat', 57)]"
      ]
     },
     "execution_count": 76,
     "metadata": {
      "tags": []
     },
     "output_type": "execute_result"
    }
   ],
   "source": [
    "counts.take(3)"
   ]
  },
  {
   "cell_type": "code",
   "execution_count": 77,
   "metadata": {
    "colab": {
     "base_uri": "https://localhost:8080/"
    },
    "id": "Kr8Iq0R4fGi0",
    "outputId": "581bec52-d688-4278-fc0b-86131c8e1949"
   },
   "outputs": [
    {
     "data": {
      "text/plain": [
       "18173"
      ]
     },
     "execution_count": 77,
     "metadata": {
      "tags": []
     },
     "output_type": "execute_result"
    }
   ],
   "source": [
    "counts.count()"
   ]
  },
  {
   "cell_type": "code",
   "execution_count": 78,
   "metadata": {
    "colab": {
     "base_uri": "https://localhost:8080/"
    },
    "id": "TIdBqtLWyeSC",
    "outputId": "f09e7e59-6996-40b9-802a-1377d30447e2"
   },
   "outputs": [
    {
     "name": "stdout",
     "output_type": "stream",
     "text": [
      "+---------+-----+\n",
      "|    Words|Count|\n",
      "+---------+-----+\n",
      "|         |69563|\n",
      "|        t|10651|\n",
      "|    https|10075|\n",
      "|       co| 9543|\n",
      "|       rt| 5976|\n",
      "|       to| 5975|\n",
      "|      you| 4934|\n",
      "|      the| 4799|\n",
      "| football| 4424|\n",
      "|     fifa| 4116|\n",
      "|     when| 4043|\n",
      "|     from| 2353|\n",
      "|        a| 2288|\n",
      "|       he| 2131|\n",
      "|        i| 2039|\n",
      "|    could| 1936|\n",
      "|     away| 1892|\n",
      "|      run| 1885|\n",
      "|       94| 1882|\n",
      "|throwback| 1844|\n",
      "+---------+-----+\n",
      "only showing top 20 rows\n",
      "\n"
     ]
    },
    {
     "data": {
      "text/plain": [
       "18173"
      ]
     },
     "execution_count": 78,
     "metadata": {
      "tags": []
     },
     "output_type": "execute_result"
    }
   ],
   "source": [
    "# Create the DataFrame of tweet word counts\n",
    "WordCount = spark.createDataFrame(counts, [\"Words\", \"Count\"])\n",
    "WordCount.sort(desc(\"Count\")).show()\n",
    "WordCount.count()"
   ]
  },
  {
   "cell_type": "code",
   "execution_count": 39,
   "metadata": {
    "colab": {
     "base_uri": "https://localhost:8080/"
    },
    "id": "ffS102doAlzM",
    "outputId": "d2037130-5482-4edb-84e0-38416314958d"
   },
   "outputs": [
    {
     "name": "stdout",
     "output_type": "stream",
     "text": [
      "+-----+-----+\n",
      "|Words|Count|\n",
      "+-----+-----+\n",
      "| http|   49|\n",
      "+-----+-----+\n",
      "\n"
     ]
    }
   ],
   "source": [
    "# WordCount.where(WordCount.Words == \"http\").show()"
   ]
  },
  {
   "cell_type": "code",
   "execution_count": 79,
   "metadata": {
    "colab": {
     "base_uri": "https://localhost:8080/"
    },
    "id": "Grgn0GzQi1RG",
    "outputId": "08a09f15-668f-4a24-92c8-16554f747fe3"
   },
   "outputs": [
    {
     "name": "stdout",
     "output_type": "stream",
     "text": [
      "+-------------------+\n",
      "|              Words|\n",
      "+-------------------+\n",
      "|        Afghanistan|\n",
      "|            Albania|\n",
      "|            Algeria|\n",
      "|     American Samoa|\n",
      "|            Andorra|\n",
      "|             Angola|\n",
      "|           Anguilla|\n",
      "|Antigua and Barbuda|\n",
      "|          Argentina|\n",
      "|            Armenia|\n",
      "|              Aruba|\n",
      "|          Australia|\n",
      "|            Austria|\n",
      "|         Azerbaijan|\n",
      "|            Bahamas|\n",
      "|            Bahrain|\n",
      "|         Bangladesh|\n",
      "|           Barbados|\n",
      "|            Belarus|\n",
      "|            Belgium|\n",
      "+-------------------+\n",
      "only showing top 20 rows\n",
      "\n"
     ]
    }
   ],
   "source": [
    " CountryDF = country_lines.selectExpr(\"Country as Words\")\n",
    " CountryDF.show()"
   ]
  },
  {
   "cell_type": "code",
   "execution_count": 81,
   "metadata": {
    "id": "xAC06XL9gXWG"
   },
   "outputs": [],
   "source": [
    "CountryDF = CountryDF.withColumn(\"Words\",lower(col(\"Words\")))"
   ]
  },
  {
   "cell_type": "code",
   "execution_count": 82,
   "metadata": {
    "colab": {
     "base_uri": "https://localhost:8080/"
    },
    "id": "sDEDqYpAyeSC",
    "outputId": "5dcb3a01-64c7-43dd-aba0-00b1c4f1943c"
   },
   "outputs": [
    {
     "data": {
      "text/plain": [
       "[Row(Words='albania', Count=2),\n",
       " Row(Words='argentina', Count=3),\n",
       " Row(Words='australia', Count=2),\n",
       " Row(Words='austria', Count=7),\n",
       " Row(Words='bahamas', Count=1),\n",
       " Row(Words='belgium', Count=1),\n",
       " Row(Words='bermuda', Count=1),\n",
       " Row(Words='brazil', Count=18),\n",
       " Row(Words='canada', Count=12),\n",
       " Row(Words='chad', Count=9),\n",
       " Row(Words='chile', Count=1),\n",
       " Row(Words='colombia', Count=2),\n",
       " Row(Words='denmark', Count=1),\n",
       " Row(Words='england', Count=43),\n",
       " Row(Words='finland', Count=1),\n",
       " Row(Words='france', Count=80),\n",
       " Row(Words='gambia', Count=1),\n",
       " Row(Words='georgia', Count=7),\n",
       " Row(Words='germany', Count=25),\n",
       " Row(Words='ghana', Count=3),\n",
       " Row(Words='greece', Count=1),\n",
       " Row(Words='guinea', Count=8),\n",
       " Row(Words='hungary', Count=1),\n",
       " Row(Words='iceland', Count=5),\n",
       " Row(Words='india', Count=4),\n",
       " Row(Words='iran', Count=1),\n",
       " Row(Words='iraq', Count=6),\n",
       " Row(Words='israel', Count=4),\n",
       " Row(Words='italy', Count=4),\n",
       " Row(Words='jamaica', Count=2),\n",
       " Row(Words='japan', Count=8),\n",
       " Row(Words='jordan', Count=9),\n",
       " Row(Words='kenya', Count=3),\n",
       " Row(Words='kosovo', Count=1),\n",
       " Row(Words='malaysia', Count=2),\n",
       " Row(Words='maldives', Count=2),\n",
       " Row(Words='mexico', Count=1),\n",
       " Row(Words='nepal', Count=1),\n",
       " Row(Words='netherlands', Count=13),\n",
       " Row(Words='nigeria', Count=89),\n",
       " Row(Words='norway', Count=54),\n",
       " Row(Words='oman', Count=1),\n",
       " Row(Words='poland', Count=1),\n",
       " Row(Words='portugal', Count=15),\n",
       " Row(Words='qatar', Count=4),\n",
       " Row(Words='russia', Count=24),\n",
       " Row(Words='scotland', Count=2),\n",
       " Row(Words='singapore', Count=1),\n",
       " Row(Words='slovakia', Count=30),\n",
       " Row(Words='somalia', Count=2),\n",
       " Row(Words='spain', Count=20),\n",
       " Row(Words='sudan', Count=2),\n",
       " Row(Words='switzerland', Count=10),\n",
       " Row(Words='thailand', Count=2),\n",
       " Row(Words='turkey', Count=2),\n",
       " Row(Words='wales', Count=29)]"
      ]
     },
     "execution_count": 82,
     "metadata": {
      "tags": []
     },
     "output_type": "execute_result"
    }
   ],
   "source": [
    "# Join the country and tweet DataFrames (on the appropriate column)\n",
    "MyPyaraTable = WordCount.join(CountryDF, on = [\"Words\"], how = 'inner') # I joined with Country only because Codes did not exist in tweet texts\n",
    "\n",
    "MyPyaraTable.sort(asc(\"Words\")).collect()\n",
    "# MyPyaraTable.count()"
   ]
  },
  {
   "cell_type": "code",
   "execution_count": 83,
   "metadata": {
    "colab": {
     "base_uri": "https://localhost:8080/"
    },
    "id": "hs65A72JgnIO",
    "outputId": "bb6b4361-bf7c-4ac9-dd1c-c307657c129a"
   },
   "outputs": [
    {
     "data": {
      "text/plain": [
       "56"
      ]
     },
     "execution_count": 83,
     "metadata": {
      "tags": []
     },
     "output_type": "execute_result"
    }
   ],
   "source": [
    "MyPyaraTable.select(\"Words\").distinct().count()"
   ]
  },
  {
   "cell_type": "code",
   "execution_count": 84,
   "metadata": {
    "id": "mDVptT4Tt1gX"
   },
   "outputs": [],
   "source": [
    "MyPyaraTable.registerTempTable(\"PyaraTable\") #So Sql Queries can Run"
   ]
  },
  {
   "cell_type": "markdown",
   "metadata": {
    "id": "zh5MyyqW5LnV"
   },
   "source": [
    "# **Question 1.1:  how many different countries are mentioned in the tweets**"
   ]
  },
  {
   "cell_type": "code",
   "execution_count": 85,
   "metadata": {
    "colab": {
     "base_uri": "https://localhost:8080/"
    },
    "id": "Lt7NiXSdyeSD",
    "outputId": "2f2a5960-9051-499d-ba4a-b41f2058d79f"
   },
   "outputs": [
    {
     "data": {
      "text/plain": [
       "56"
      ]
     },
     "execution_count": 85,
     "metadata": {
      "tags": []
     },
     "output_type": "execute_result"
    }
   ],
   "source": [
    "# Question 1: number of distinct countries mentioned\n",
    "MyPyaraTable.count()"
   ]
  },
  {
   "cell_type": "code",
   "execution_count": 86,
   "metadata": {
    "colab": {
     "base_uri": "https://localhost:8080/"
    },
    "id": "duLrYWKC6-g7",
    "outputId": "cecca6e2-f929-440a-e37e-46b289e70056"
   },
   "outputs": [
    {
     "name": "stdout",
     "output_type": "stream",
     "text": [
      "+-------------+\n",
      "|Count_Mention|\n",
      "+-------------+\n",
      "|           56|\n",
      "+-------------+\n",
      "\n"
     ]
    }
   ],
   "source": [
    "# Also By SQL Query\n",
    "Counting = spark.sql(\"\"\"Select Count(*) AS Count_Mention From PyaraTable\"\"\")\n",
    "Counting.show()"
   ]
  },
  {
   "cell_type": "markdown",
   "metadata": {
    "id": "gI-fc_aZ6BJO"
   },
   "source": [
    "# **Question 1.2:   computes the total number of times any country is mentioned**"
   ]
  },
  {
   "cell_type": "code",
   "execution_count": 87,
   "metadata": {
    "colab": {
     "base_uri": "https://localhost:8080/"
    },
    "id": "v90hHbbUyeSD",
    "outputId": "bc670753-df26-43b7-a999-5be0a03618d6"
   },
   "outputs": [
    {
     "name": "stdout",
     "output_type": "stream",
     "text": [
      "+----------+\n",
      "|sum(Count)|\n",
      "+----------+\n",
      "|       584|\n",
      "+----------+\n",
      "\n"
     ]
    }
   ],
   "source": [
    "# Question 2: number of countries mentioned in tweets.\n",
    "from pyspark.sql.functions import sum\n",
    "# MyPyaraTable.printSchema()\n",
    "MyPyaraTable.groupBy().sum().show()"
   ]
  },
  {
   "cell_type": "code",
   "execution_count": 88,
   "metadata": {
    "colab": {
     "base_uri": "https://localhost:8080/"
    },
    "id": "UV28wXWK7vn0",
    "outputId": "d7cdb761-d1f7-43cd-c5b9-7d079b35621e"
   },
   "outputs": [
    {
     "name": "stdout",
     "output_type": "stream",
     "text": [
      "+-----------+\n",
      "|Sum_Mention|\n",
      "+-----------+\n",
      "|        584|\n",
      "+-----------+\n",
      "\n"
     ]
    }
   ],
   "source": [
    "# Also By SQL Query\n",
    "CountriesMentioned = spark.sql(\"\"\"Select Sum(Count) AS Sum_Mention From PyaraTable\"\"\")\n",
    "CountriesMentioned.show()"
   ]
  },
  {
   "cell_type": "markdown",
   "metadata": {
    "id": "9ws_f1fF6P4I"
   },
   "source": [
    "# **Question 1.3:   Your next task is to determine the most popular countries. You can do this by finding the three countries mentioned the most.**"
   ]
  },
  {
   "cell_type": "code",
   "execution_count": 89,
   "metadata": {
    "colab": {
     "base_uri": "https://localhost:8080/"
    },
    "id": "1r0yXI2pyeSE",
    "outputId": "93a3bfec-5ed9-435c-ce8b-5bc182e39e8a"
   },
   "outputs": [
    {
     "name": "stdout",
     "output_type": "stream",
     "text": [
      "+-------+-----+\n",
      "|  Words|Count|\n",
      "+-------+-----+\n",
      "|nigeria|   89|\n",
      "| france|   80|\n",
      "| norway|   54|\n",
      "+-------+-----+\n",
      "only showing top 3 rows\n",
      "\n"
     ]
    }
   ],
   "source": [
    "# Table 1: top three countries and their counts.\n",
    "# from pyspark.sql.functions import desc\n",
    "\n",
    "# MyPyaraTable.sort(desc(\"Count\")).show(truncate = 3) #Something Cool\n",
    "# MyPyaraTable.sort(desc(\"Count\")).take(3) #Another Way to accomplish it\n",
    "MyPyaraTable.sort(desc(\"Count\")).show(3)"
   ]
  },
  {
   "cell_type": "code",
   "execution_count": 90,
   "metadata": {
    "colab": {
     "base_uri": "https://localhost:8080/"
    },
    "id": "mwIbIcPmuJUI",
    "outputId": "640c5471-f772-490c-94f6-00b964447aff"
   },
   "outputs": [
    {
     "name": "stdout",
     "output_type": "stream",
     "text": [
      "+-------+-----+\n",
      "|  Words|Count|\n",
      "+-------+-----+\n",
      "|nigeria|   89|\n",
      "| france|   80|\n",
      "| norway|   54|\n",
      "+-------+-----+\n",
      "\n"
     ]
    }
   ],
   "source": [
    "# Also By SQL Query\n",
    "DesccendingOrder = spark.sql(\"\"\"SELECT * FROM PyaraTable ORDER BY Count Desc LIMIT 3;\"\"\")\n",
    "DesccendingOrder.show()"
   ]
  },
  {
   "cell_type": "markdown",
   "metadata": {
    "id": "jrMgXz1o6b5_"
   },
   "source": [
    "# **Question 1.4:  you are now interested in how many times specific countries are mentioned. For example, how many times was France mentioned?**"
   ]
  },
  {
   "cell_type": "code",
   "execution_count": 91,
   "metadata": {
    "colab": {
     "base_uri": "https://localhost:8080/"
    },
    "id": "XsUo6zcTyB27",
    "outputId": "842c6a81-7f50-4a71-a28a-41bfc7316517"
   },
   "outputs": [
    {
     "name": "stdout",
     "output_type": "stream",
     "text": [
      "+------+-----+\n",
      "| Words|Count|\n",
      "+------+-----+\n",
      "|france|   80|\n",
      "+------+-----+\n",
      "\n"
     ]
    }
   ],
   "source": [
    "MyPyaraTable.where(MyPyaraTable.Words == 'france').show()"
   ]
  },
  {
   "cell_type": "code",
   "execution_count": 92,
   "metadata": {
    "colab": {
     "base_uri": "https://localhost:8080/"
    },
    "id": "jVWVfyuCyAeN",
    "outputId": "164d444e-843e-4543-b4dd-101b5bb9ce11"
   },
   "outputs": [
    {
     "name": "stdout",
     "output_type": "stream",
     "text": [
      "+------+-----+\n",
      "| Words|Count|\n",
      "+------+-----+\n",
      "|france|   80|\n",
      "+------+-----+\n",
      "\n"
     ]
    }
   ],
   "source": [
    "# Also By SQL Query\n",
    "WhereFrance = spark.sql(\"\"\"SELECT * FROM PyaraTable WHERE Words = 'france';\"\"\")\n",
    "WhereFrance.show()"
   ]
  },
  {
   "cell_type": "markdown",
   "metadata": {
    "id": "P0aCv4W56o3W"
   },
   "source": [
    "# **Question 1.5:   Which country has the most mentions: Kenya, Wales, or Netherlands?**"
   ]
  },
  {
   "cell_type": "code",
   "execution_count": 93,
   "metadata": {
    "colab": {
     "base_uri": "https://localhost:8080/"
    },
    "id": "QlCBS3kpzhdD",
    "outputId": "338686b5-9ced-4a33-9859-d0c80c6be501"
   },
   "outputs": [
    {
     "name": "stdout",
     "output_type": "stream",
     "text": [
      "+-----+-----+\n",
      "|Words|Count|\n",
      "+-----+-----+\n",
      "|wales|   29|\n",
      "+-----+-----+\n",
      "only showing top 1 row\n",
      "\n"
     ]
    }
   ],
   "source": [
    "MyPyaraTable.where( (MyPyaraTable.Words == 'kenya') | (MyPyaraTable.Words == 'wales') | (MyPyaraTable.Words == 'netherlands') ).sort(desc(\"Count\")).show(1)"
   ]
  },
  {
   "cell_type": "code",
   "execution_count": 94,
   "metadata": {
    "colab": {
     "base_uri": "https://localhost:8080/"
    },
    "id": "CYl6mkbS0vZU",
    "outputId": "cda7033a-4b8c-4bf8-e9bd-0e9bfcab2610"
   },
   "outputs": [
    {
     "name": "stdout",
     "output_type": "stream",
     "text": [
      "+-----+-----+\n",
      "|Words|Count|\n",
      "+-----+-----+\n",
      "|wales|   29|\n",
      "+-----+-----+\n",
      "\n"
     ]
    }
   ],
   "source": [
    "# Also By SQL Query\n",
    "TopAmong3 = spark.sql(\"\"\"SELECT * FROM PyaraTable WHERE Words = 'kenya' OR Words = 'wales' OR Words = 'netherlands' ORDER BY 2 DESC LIMIT 1 ;\"\"\")\n",
    "TopAmong3.show()"
   ]
  },
  {
   "cell_type": "markdown",
   "metadata": {
    "id": "EUzvgv3p6w2f"
   },
   "source": [
    "# **Question 2.6:   Finally, what is the average number of times a country is mentioned?**"
   ]
  },
  {
   "cell_type": "code",
   "execution_count": 95,
   "metadata": {
    "colab": {
     "base_uri": "https://localhost:8080/"
    },
    "id": "r1QEXvEv1_oO",
    "outputId": "f1601f23-3e55-4533-cc75-6c995a8e5510"
   },
   "outputs": [
    {
     "name": "stdout",
     "output_type": "stream",
     "text": [
      "+-----------------------------------+\n",
      "|Average Number of Country Mentioned|\n",
      "+-----------------------------------+\n",
      "|                 10.428571428571429|\n",
      "+-----------------------------------+\n",
      "\n"
     ]
    }
   ],
   "source": [
    "# MyPyaraTable.groupBy().avg(\"Count\").show() #Also possible\n",
    "MyPyaraTable.groupBy().agg(avg(\"Count\").alias(\"Average Number of Country Mentioned\")).show()"
   ]
  },
  {
   "cell_type": "code",
   "execution_count": 96,
   "metadata": {
    "colab": {
     "base_uri": "https://localhost:8080/"
    },
    "id": "8VyFhH7Q3TOU",
    "outputId": "8327bd7e-0061-4c15-cf11-46b660aac8e7"
   },
   "outputs": [
    {
     "name": "stdout",
     "output_type": "stream",
     "text": [
      "+-------------------+\n",
      "|Country_Avg_Mention|\n",
      "+-------------------+\n",
      "| 10.428571428571429|\n",
      "+-------------------+\n",
      "\n"
     ]
    }
   ],
   "source": [
    "# Also By SQL Query\n",
    "AverageMention = spark.sql(\"\"\"SELECT AVG(Count) AS Country_Avg_Mention FROM PyaraTable ;\"\"\")\n",
    "AverageMention.show()"
   ]
  },
  {
   "cell_type": "code",
   "execution_count": null,
   "metadata": {
    "id": "RpvwhUYi9GKq"
   },
   "outputs": [],
   "source": [
    "# A good line of code we should know\n",
    "# df.filter(df.location.contains('google.com'))"
   ]
  },
  {
   "cell_type": "code",
   "execution_count": null,
   "metadata": {
    "id": "ZnCKsTDhyeSE"
   },
   "outputs": [],
   "source": [
    "# Table 2: counts for Wales, Iceland, and Japan.\n"
   ]
  },
  {
   "cell_type": "markdown",
   "metadata": {
    "id": "UwHze6rS-RJa"
   },
   "source": [
    "# **Link for Colab Python Notebook: https://colab.research.google.com/drive/1M3JOxXqgILOOyB6t2zFPQVf_kqviTDMY?usp=sharing**"
   ]
  }
 ],
 "metadata": {
  "colab": {
   "collapsed_sections": [],
   "name": "BDA Assignment 2 Alishba.ipynb",
   "provenance": []
  },
  "kernelspec": {
   "display_name": "Python 3",
   "language": "python",
   "name": "python3"
  },
  "language_info": {
   "codemirror_mode": {
    "name": "ipython",
    "version": 3
   },
   "file_extension": ".py",
   "mimetype": "text/x-python",
   "name": "python",
   "nbconvert_exporter": "python",
   "pygments_lexer": "ipython3",
   "version": "3.9.0"
  }
 },
 "nbformat": 4,
 "nbformat_minor": 1
}
